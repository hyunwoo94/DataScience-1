{
  "nbformat": 4,
  "nbformat_minor": 0,
  "metadata": {
    "colab": {
      "name": "네이버 영화 TOP100 크롤링 & 영화 데이터 분석.ipynb",
      "provenance": [],
      "collapsed_sections": [],
      "authorship_tag": "ABX9TyNLihhF0c7wM++cai1MAZT0",
      "include_colab_link": true
    },
    "kernelspec": {
      "name": "python3",
      "display_name": "Python 3"
    },
    "language_info": {
      "name": "python"
    }
  },
  "cells": [
    {
      "cell_type": "markdown",
      "metadata": {
        "id": "view-in-github",
        "colab_type": "text"
      },
      "source": [
        "<a href=\"https://colab.research.google.com/github/imjoung/DataScience/blob/main/Analysis/%EB%84%A4%EC%9D%B4%EB%B2%84_%EC%98%81%ED%99%94_TOP100_%ED%81%AC%EB%A1%A4%EB%A7%81_%26_%EC%98%81%ED%99%94_%EB%8D%B0%EC%9D%B4%ED%84%B0_%EB%B6%84%EC%84%9D.ipynb\" target=\"_parent\"><img src=\"https://colab.research.google.com/assets/colab-badge.svg\" alt=\"Open In Colab\"/></a>"
      ]
    },
    {
      "cell_type": "markdown",
      "metadata": {
        "id": "rRUzUw2en6xE"
      },
      "source": [
        "라이브러리 임포트"
      ]
    },
    {
      "cell_type": "code",
      "metadata": {
        "colab": {
          "base_uri": "https://localhost:8080/"
        },
        "id": "k4YFBI9ingmt",
        "outputId": "4410f86b-877c-40ca-e0b3-996bbe68cdc9"
      },
      "source": [
        "# 링크 수집을 위한 라이브러리 설치\n",
        "!pip install selenium"
      ],
      "execution_count": null,
      "outputs": [
        {
          "output_type": "stream",
          "text": [
            "Requirement already satisfied: selenium in /usr/local/lib/python3.7/dist-packages (3.141.0)\n",
            "Requirement already satisfied: urllib3 in /usr/local/lib/python3.7/dist-packages (from selenium) (1.24.3)\n"
          ],
          "name": "stdout"
        }
      ]
    },
    {
      "cell_type": "code",
      "metadata": {
        "colab": {
          "base_uri": "https://localhost:8080/"
        },
        "id": "-loh6HkVol5V",
        "outputId": "3411e868-f662-4b2f-9819-b6295b991bf5"
      },
      "source": [
        "# install chromium, its driver, and selenium\n",
        "!apt-get update\n",
        "!apt install chromium-chromedriver\n",
        "!cp /usr/lib/chromium-browser/chromedriver /usr/bin\n",
        "!pip install selenium\n",
        "# set options to be headless, ..\n",
        "from selenium import webdriver\n",
        "options = webdriver.ChromeOptions()\n",
        "options.add_argument('--headless')\n",
        "options.add_argument('--no-sandbox')\n",
        "options.add_argument('--disable-dev-shm-usage')\n",
        "\n",
        "driver = webdriver.Chrome('chromedriver',options=options)\n"
      ],
      "execution_count": null,
      "outputs": [
        {
          "output_type": "stream",
          "text": [
            "\r0% [Working]\r            \rIgn:1 https://developer.download.nvidia.com/compute/cuda/repos/ubuntu1804/x86_64  InRelease\n",
            "Hit:2 https://cloud.r-project.org/bin/linux/ubuntu bionic-cran40/ InRelease\n",
            "Ign:3 https://developer.download.nvidia.com/compute/machine-learning/repos/ubuntu1804/x86_64  InRelease\n",
            "Hit:4 https://developer.download.nvidia.com/compute/cuda/repos/ubuntu1804/x86_64  Release\n",
            "Hit:5 http://archive.ubuntu.com/ubuntu bionic InRelease\n",
            "Hit:6 https://developer.download.nvidia.com/compute/machine-learning/repos/ubuntu1804/x86_64  Release\n",
            "Get:7 http://archive.ubuntu.com/ubuntu bionic-updates InRelease [88.7 kB]\n",
            "Hit:8 http://ppa.launchpad.net/c2d4u.team/c2d4u4.0+/ubuntu bionic InRelease\n",
            "Get:10 http://archive.ubuntu.com/ubuntu bionic-backports InRelease [74.6 kB]\n",
            "Hit:11 http://ppa.launchpad.net/cran/libgit2/ubuntu bionic InRelease\n",
            "Hit:12 http://ppa.launchpad.net/deadsnakes/ppa/ubuntu bionic InRelease\n",
            "Hit:14 http://ppa.launchpad.net/graphics-drivers/ppa/ubuntu bionic InRelease\n",
            "Hit:15 http://security.ubuntu.com/ubuntu bionic-security InRelease\n",
            "Fetched 163 kB in 3s (60.8 kB/s)\n",
            "Reading package lists... Done\n",
            "Reading package lists... Done\n",
            "Building dependency tree       \n",
            "Reading state information... Done\n",
            "chromium-chromedriver is already the newest version (91.0.4472.101-0ubuntu0.18.04.1).\n",
            "0 upgraded, 0 newly installed, 0 to remove and 70 not upgraded.\n",
            "cp: '/usr/lib/chromium-browser/chromedriver' and '/usr/bin/chromedriver' are the same file\n",
            "Requirement already satisfied: selenium in /usr/local/lib/python3.7/dist-packages (3.141.0)\n",
            "Requirement already satisfied: urllib3 in /usr/local/lib/python3.7/dist-packages (from selenium) (1.24.3)\n"
          ],
          "name": "stdout"
        }
      ]
    },
    {
      "cell_type": "code",
      "metadata": {
        "id": "u0Tbh6H1n1tO"
      },
      "source": [
        "from bs4 import BeautifulSoup\n",
        "import requests\n",
        "from selenium import webdriver as wd\n",
        "from selenium.webdriver.common.keys import Keys\n",
        "import time\n",
        "import re\n",
        "import pandas as pd"
      ],
      "execution_count": null,
      "outputs": []
    },
    {
      "cell_type": "markdown",
      "metadata": {
        "id": "fB8Fz_dAr6G2"
      },
      "source": [
        "### 분석할 데이터 모으기(크롤링)"
      ]
    },
    {
      "cell_type": "markdown",
      "metadata": {
        "id": "jHXconIwr_Xc"
      },
      "source": [
        "네이버 영화 TOP100 페이지 별 링크 수집"
      ]
    },
    {
      "cell_type": "code",
      "metadata": {
        "id": "XBzHLaRKoKHd"
      },
      "source": [
        "#https://serieson.naver.com/movie/top100List.nhn?rankingTypeCode=PC_R&page= 실시간\n",
        "#https://serieson.naver.com/movie/top100List.nhn?rankingTypeCode=PC_D&page= 일간\n",
        "#https://serieson.naver.com/movie/top100List.nhn?rankingTypeCode=PC_W&page= 주간\n",
        "#https://serieson.naver.com/movie/top100List.nhn?rankingTypeCode=PC_M&page= 월간\n",
        "\n",
        "def getPageLinksWantRange(startPageNo, lastPageNo) :\n",
        "  links = [] # 100개의 영화 링크를 수집할 리스트 변수 선언\n",
        "\n",
        "  for pageNo in range(startPageNo -1, lastPageNo) :\n",
        "    # 실시간 TOP 100 영화 링크 수집\n",
        "    url = \"https://serieson.naver.com/movie/top100List.nhn?rankingTypeCode=PC_D&page=\" + str(pageNo+1)\n",
        "    \n",
        "    req = requests.get(url) # 페이지 접속\n",
        "    soup = BeautifulSoup(req.text, 'lxml') # html 파싱을 위한 객체 생성\n",
        "    #<div class=\"lst_thum_wrap\"> -> <ul> -> <li> -> <a href =\"\">\n",
        "    movielinks = soup.select('div.lst_thum_wrap ul li a[href]') # 뒤 링크만 수집하는 단계. 앞 라인도 추가 필요\n",
        "\n",
        "\n",
        "    for movielink in movielinks :\n",
        "      link = str(movielink.get('href'))\n",
        "      # 접속할 수 있는 전체 링크 형태로 변환\n",
        "      links.append(\"https://serieson.naver.com/\" + link)\n",
        "  return links"
      ],
      "execution_count": null,
      "outputs": []
    },
    {
      "cell_type": "markdown",
      "metadata": {
        "id": "t8yLwiT9yviu"
      },
      "source": [
        "네이버 영화 제목, 평점, 장르, 줄거리 크롤링"
      ]
    },
    {
      "cell_type": "code",
      "metadata": {
        "id": "BnKfLjYNugh0"
      },
      "source": [
        "def getMovieDataFromNaverSeries(links) :\n",
        "  title_infos = [] # 제목\n",
        "  content_infos = [] # 줄거리\n",
        "  genre_infos = [] # 장르\n",
        "  score_infos = [] # 평점\n",
        "  date_infos = [] # 개봉일\n",
        "\n",
        "  url2 = \"https://www.naver.com\"\n",
        "\n",
        "  driver = webdriver.Chrome('chromedriver', options=options)\n",
        "  driver.get(url2)\n",
        "  time.sleep(3.0) #3초 sleep\n",
        "\n",
        "  driver.find_element_by_css_selector('body').send_keys(Keys.CONTROL + 't') # 새 탭 생성\n",
        "\n",
        "\n",
        "  for link in links :\n",
        "    print(link + '수집 중 = = 3 ')\n",
        "    driver.switch_to.window(driver.window_handles[-1]) # 새탭 주소창 활성화\n",
        "    time.sleep(0.1)\n",
        "    driver.get(link)\n",
        "    time.sleep(0.1)\n",
        "    driver.switch_to.window(driver.window_handles[0]) # 새탭 주소창 활성화\n",
        "    time.sleep(3.0)\n",
        "\n",
        "    html_source = driver.page_source # req.text와 같은 동작\n",
        "    html_soup = BeautifulSoup(html_source, 'lxml')\n",
        "\n",
        "    #청소년 관람불가 영화 크롤링 할 경우 -> 인증 -> 수집 제외\n",
        "    flag = html_soup.text[0:10]\n",
        "\n",
        "    newflag = ''.join(flag)\n",
        "    newflag = newflag.replace('\\n', '')\n",
        "\n",
        "    if newflag == '네이버' :\n",
        "      time.sleep(1.0)\n",
        "\n",
        "      #평점 수집\n",
        "      score = driver.find_element_by_css_selector('div.score_area > em')\n",
        "      score = float(score.text)\n",
        "      score = int(score) #정수형으로 변경\n",
        "      score_infos.append(score)\n",
        "      print(score)\n",
        "\n",
        "      \n",
        "      #제목, 줄거리,장르\n",
        "\n",
        "      try :\n",
        "        movieInfoUrl = driver.find_element_by_css_selector('li.info_lst > ul > li:nth-child(7) > a').get_attribute('href') # 7번째 li에 있는 링크 가져오기\n",
        "        #장르 수집\n",
        "        genre = driver.find_element_by_css_selector('li.info_lst > ul > li:nth-child(4)').get_attribute('textContent')\n",
        "        genre = genre.replace('장르','')\n",
        "        genre = genre.replace('\\n','')\n",
        "        genre = genre.replace('\\t','')\n",
        "        genre_infos.append(genre)\n",
        "\n",
        "      #print(genre)\n",
        "      \n",
        "      except :\n",
        "        movieInfoUrl = driver.find_element_by_css_selector('li.info_lst > ul > li:nth-child(6) > a').get_attribute('href') # 없으면 그냥 6번째로 간다\n",
        "        #장르 수집 -> 장르 정보가 없어서, 6번째 except -> 공백으로 수집\n",
        "        genre_infos.append('')      \n",
        "      \n",
        "      #영화 싱세보기 페이지로 이동\n",
        "      movie_req = requests.get(movieInfoUrl)\n",
        "\n",
        "      #제목 수집\n",
        "      movie_soup = BeautifulSoup(movie_req.text, 'lxml')\n",
        "      title = movie_soup.head.find(\"meta\",{\"property\":\"og:title\"}).get('content')\n",
        "      title_infos.append(title)\n",
        "      #print(title)\n",
        "      \n",
        "      #줄거리 수집\n",
        "      contents_texts = movie_soup.select('div.story_area > p.con_tx') # f12 페이지 소스에서 확인!\n",
        "      if len(contents_texts) == 0:\n",
        "        content_infos.append(\"줄거리 오류\")\n",
        "\n",
        "      else :\n",
        "        for contents in contents_texts:\n",
        "          temp = contents.text\n",
        "          temp = temp.replace('\\r','')\n",
        "          temp = temp.replace('\\xa0','')\n",
        "          content_infos.append(temp)\n",
        "\n",
        "    elif newflag == '':\n",
        "        print('청불 영화로 데이터 수집하지 않습니다.')\n",
        "        \n",
        "  print('수집 완료 합니다 - - ! ')\n",
        "  print(len(score_infos),len(genre_infos),len(content_infos))\n",
        "  driver.close()\n",
        "\n",
        "  movie_dic = {\"제목\" : title_infos, \"평점\" : score_infos, \"장르\" : genre_infos, \"줄거리\" : content_infos}\n",
        "  movie_df = pd.DataFrame(movie_dic)\n",
        "\n",
        "  #중복 데이터 삭제 (구매/대여)\n",
        "  movie_df2 = movie_df.drop_duplicates(\"줄거리\", keep='first') # 줄거리 비교하여, 중복된 영화를 삭제 (첫번째 수집 영화만 남김)\n",
        "  return movie_df2\n"
      ],
      "execution_count": null,
      "outputs": []
    },
    {
      "cell_type": "markdown",
      "metadata": {
        "id": "Y-zaAwauKwkf"
      },
      "source": [
        "csv파일로 저장"
      ]
    },
    {
      "cell_type": "code",
      "metadata": {
        "id": "sU-gedQnEwJB"
      },
      "source": [
        "def dftoCsv(movie_df, num) :\n",
        "  try :\n",
        "    movie_df.to_csv('movie_my_data_'+str(num)+'.csv', \n",
        "                    sep=',', na_rep='NaN', encoding='euc-kr')\n",
        "    \n",
        "  except :\n",
        "    print('Error')"
      ],
      "execution_count": null,
      "outputs": []
    },
    {
      "cell_type": "markdown",
      "metadata": {
        "id": "b5PwZSXsLdPn"
      },
      "source": [
        "### 크롤링 실행"
      ]
    },
    {
      "cell_type": "code",
      "metadata": {
        "colab": {
          "base_uri": "https://localhost:8080/"
        },
        "id": "v1n2e5GLK5k3",
        "outputId": "fc09b060-f23f-488c-814a-bff5fd03e3b5"
      },
      "source": [
        "# 1) 크롤링 할 링크 수집\n",
        "\n",
        "links = getPageLinksWantRange(1,5)\n",
        "\n",
        "# 2) 영화 상세 정보 수집\n",
        "movie_df2 = getMovieDataFromNaverSeries(links)\n",
        "\n",
        "# 3) csv 파일 저장\n",
        "dftoCsv(movie_df2, len(movie_df2))"
      ],
      "execution_count": null,
      "outputs": [
        {
          "output_type": "stream",
          "text": [
            "https://serieson.naver.com//movie/detail.nhn?productNo=6291892수집 중 = = 3 \n",
            "9\n",
            "https://serieson.naver.com//movie/detail.nhn?productNo=3400212수집 중 = = 3 \n",
            "7\n",
            "https://serieson.naver.com//movie/detail.nhn?productNo=3024534수집 중 = = 3 \n",
            "8\n",
            "https://serieson.naver.com//movie/detail.nhn?productNo=2822635수집 중 = = 3 \n",
            "청불 영화로 데이터 수집하지 않습니다.\n",
            "https://serieson.naver.com//movie/detail.nhn?productNo=6315371수집 중 = = 3 \n",
            "9\n",
            "https://serieson.naver.com//movie/detail.nhn?productNo=3639460수집 중 = = 3 \n",
            "청불 영화로 데이터 수집하지 않습니다.\n",
            "https://serieson.naver.com//movie/detail.nhn?productNo=6023769수집 중 = = 3 \n",
            "9\n",
            "https://serieson.naver.com//movie/detail.nhn?productNo=6283368수집 중 = = 3 \n",
            "6\n",
            "https://serieson.naver.com//movie/detail.nhn?productNo=6243813수집 중 = = 3 \n",
            "9\n",
            "https://serieson.naver.com//movie/detail.nhn?productNo=6119777수집 중 = = 3 \n",
            "7\n",
            "https://serieson.naver.com//movie/detail.nhn?productNo=6139375수집 중 = = 3 \n",
            "9\n",
            "https://serieson.naver.com//movie/detail.nhn?productNo=2686058수집 중 = = 3 \n",
            "청불 영화로 데이터 수집하지 않습니다.\n",
            "https://serieson.naver.com//movie/detail.nhn?productNo=2747742수집 중 = = 3 \n",
            "8\n",
            "https://serieson.naver.com//movie/detail.nhn?productNo=3293948수집 중 = = 3 \n",
            "청불 영화로 데이터 수집하지 않습니다.\n",
            "https://serieson.naver.com//movie/detail.nhn?productNo=6176165수집 중 = = 3 \n",
            "8\n",
            "https://serieson.naver.com//movie/detail.nhn?productNo=6257268수집 중 = = 3 \n",
            "9\n",
            "https://serieson.naver.com//movie/detail.nhn?productNo=4579842수집 중 = = 3 \n",
            "8\n",
            "https://serieson.naver.com//movie/detail.nhn?productNo=6176542수집 중 = = 3 \n",
            "8\n",
            "https://serieson.naver.com//movie/detail.nhn?productNo=6158879수집 중 = = 3 \n",
            "9\n",
            "https://serieson.naver.com//movie/detail.nhn?productNo=4356726수집 중 = = 3 \n",
            "9\n",
            "https://serieson.naver.com//movie/detail.nhn?productNo=6253746수집 중 = = 3 \n",
            "8\n",
            "https://serieson.naver.com//movie/detail.nhn?productNo=3400211수집 중 = = 3 \n",
            "7\n",
            "https://serieson.naver.com//movie/detail.nhn?productNo=6063434수집 중 = = 3 \n",
            "7\n",
            "https://serieson.naver.com//movie/detail.nhn?productNo=6176166수집 중 = = 3 \n",
            "8\n",
            "https://serieson.naver.com//movie/detail.nhn?productNo=6098871수집 중 = = 3 \n",
            "9\n",
            "https://serieson.naver.com//movie/detail.nhn?productNo=1101500수집 중 = = 3 \n",
            "청불 영화로 데이터 수집하지 않습니다.\n",
            "https://serieson.naver.com//movie/detail.nhn?productNo=1729987수집 중 = = 3 \n",
            "청불 영화로 데이터 수집하지 않습니다.\n",
            "https://serieson.naver.com//movie/detail.nhn?productNo=3056481수집 중 = = 3 \n",
            "청불 영화로 데이터 수집하지 않습니다.\n",
            "https://serieson.naver.com//movie/detail.nhn?productNo=6176518수집 중 = = 3 \n",
            "청불 영화로 데이터 수집하지 않습니다.\n",
            "https://serieson.naver.com//movie/detail.nhn?productNo=1537164수집 중 = = 3 \n",
            "청불 영화로 데이터 수집하지 않습니다.\n",
            "https://serieson.naver.com//movie/detail.nhn?productNo=1605628수집 중 = = 3 \n",
            "8\n",
            "https://serieson.naver.com//movie/detail.nhn?productNo=5110441수집 중 = = 3 \n",
            "청불 영화로 데이터 수집하지 않습니다.\n",
            "https://serieson.naver.com//movie/detail.nhn?productNo=6139377수집 중 = = 3 \n",
            "8\n",
            "https://serieson.naver.com//movie/detail.nhn?productNo=5843892수집 중 = = 3 \n",
            "8\n",
            "https://serieson.naver.com//movie/detail.nhn?productNo=3081843수집 중 = = 3 \n",
            "청불 영화로 데이터 수집하지 않습니다.\n",
            "https://serieson.naver.com//movie/detail.nhn?productNo=1965132수집 중 = = 3 \n",
            "청불 영화로 데이터 수집하지 않습니다.\n",
            "https://serieson.naver.com//movie/detail.nhn?productNo=3593762수집 중 = = 3 \n",
            "8\n",
            "https://serieson.naver.com//movie/detail.nhn?productNo=2787777수집 중 = = 3 \n",
            "청불 영화로 데이터 수집하지 않습니다.\n",
            "https://serieson.naver.com//movie/detail.nhn?productNo=1753829수집 중 = = 3 \n",
            "8\n",
            "https://serieson.naver.com//movie/detail.nhn?productNo=5751044수집 중 = = 3 \n",
            "8\n",
            "https://serieson.naver.com//movie/detail.nhn?productNo=2405537수집 중 = = 3 \n",
            "7\n",
            "https://serieson.naver.com//movie/detail.nhn?productNo=3241116수집 중 = = 3 \n",
            "9\n",
            "https://serieson.naver.com//movie/detail.nhn?productNo=510029수집 중 = = 3 \n",
            "청불 영화로 데이터 수집하지 않습니다.\n",
            "https://serieson.naver.com//movie/detail.nhn?productNo=5607754수집 중 = = 3 \n",
            "8\n",
            "https://serieson.naver.com//movie/detail.nhn?productNo=5701576수집 중 = = 3 \n",
            "9\n",
            "https://serieson.naver.com//movie/detail.nhn?productNo=6039515수집 중 = = 3 \n",
            "0\n",
            "https://serieson.naver.com//movie/detail.nhn?productNo=6283369수집 중 = = 3 \n",
            "6\n",
            "https://serieson.naver.com//movie/detail.nhn?productNo=1760739수집 중 = = 3 \n",
            "8\n",
            "https://serieson.naver.com//movie/detail.nhn?productNo=4517655수집 중 = = 3 \n",
            "6\n",
            "https://serieson.naver.com//movie/detail.nhn?productNo=1808511수집 중 = = 3 \n",
            "9\n",
            "https://serieson.naver.com//movie/detail.nhn?productNo=552985수집 중 = = 3 \n",
            "청불 영화로 데이터 수집하지 않습니다.\n",
            "https://serieson.naver.com//movie/detail.nhn?productNo=1619627수집 중 = = 3 \n",
            "8\n",
            "https://serieson.naver.com//movie/detail.nhn?productNo=585441수집 중 = = 3 \n",
            "9\n",
            "https://serieson.naver.com//movie/detail.nhn?productNo=3680226수집 중 = = 3 \n",
            "청불 영화로 데이터 수집하지 않습니다.\n",
            "https://serieson.naver.com//movie/detail.nhn?productNo=6176543수집 중 = = 3 \n",
            "8\n",
            "https://serieson.naver.com//movie/detail.nhn?productNo=2586406수집 중 = = 3 \n",
            "7\n",
            "https://serieson.naver.com//movie/detail.nhn?productNo=5951606수집 중 = = 3 \n",
            "청불 영화로 데이터 수집하지 않습니다.\n",
            "https://serieson.naver.com//movie/detail.nhn?productNo=2015025수집 중 = = 3 \n",
            "9\n",
            "https://serieson.naver.com//movie/detail.nhn?productNo=4881160수집 중 = = 3 \n",
            "7\n",
            "https://serieson.naver.com//movie/detail.nhn?productNo=6069154수집 중 = = 3 \n",
            "9\n",
            "https://serieson.naver.com//movie/detail.nhn?productNo=5482161수집 중 = = 3 \n",
            "7\n",
            "https://serieson.naver.com//movie/detail.nhn?productNo=4475562수집 중 = = 3 \n",
            "7\n",
            "https://serieson.naver.com//movie/detail.nhn?productNo=3478547수집 중 = = 3 \n",
            "9\n",
            "https://serieson.naver.com//movie/detail.nhn?productNo=412868수집 중 = = 3 \n",
            "9\n",
            "https://serieson.naver.com//movie/detail.nhn?productNo=5778853수집 중 = = 3 \n",
            "7\n",
            "https://serieson.naver.com//movie/detail.nhn?productNo=4508244수집 중 = = 3 \n",
            "9\n",
            "https://serieson.naver.com//movie/detail.nhn?productNo=2909332수집 중 = = 3 \n",
            "8\n",
            "https://serieson.naver.com//movie/detail.nhn?productNo=6139376수집 중 = = 3 \n",
            "9\n",
            "https://serieson.naver.com//movie/detail.nhn?productNo=3843473수집 중 = = 3 \n",
            "7\n",
            "https://serieson.naver.com//movie/detail.nhn?productNo=3226852수집 중 = = 3 \n",
            "9\n",
            "https://serieson.naver.com//movie/detail.nhn?productNo=3239240수집 중 = = 3 \n",
            "9\n",
            "https://serieson.naver.com//movie/detail.nhn?productNo=2166247수집 중 = = 3 \n",
            "청불 영화로 데이터 수집하지 않습니다.\n",
            "https://serieson.naver.com//movie/detail.nhn?productNo=1833976수집 중 = = 3 \n",
            "청불 영화로 데이터 수집하지 않습니다.\n",
            "https://serieson.naver.com//movie/detail.nhn?productNo=6210977수집 중 = = 3 \n",
            "9\n",
            "https://serieson.naver.com//movie/detail.nhn?productNo=6119778수집 중 = = 3 \n",
            "7\n",
            "https://serieson.naver.com//movie/detail.nhn?productNo=1909575수집 중 = = 3 \n",
            "9\n",
            "https://serieson.naver.com//movie/detail.nhn?productNo=1405968수집 중 = = 3 \n",
            "청불 영화로 데이터 수집하지 않습니다.\n",
            "https://serieson.naver.com//movie/detail.nhn?productNo=5404435수집 중 = = 3 \n",
            "9\n",
            "https://serieson.naver.com//movie/detail.nhn?productNo=4021296수집 중 = = 3 \n",
            "9\n",
            "https://serieson.naver.com//movie/detail.nhn?productNo=3448644수집 중 = = 3 \n",
            "8\n",
            "https://serieson.naver.com//movie/detail.nhn?productNo=1775085수집 중 = = 3 \n",
            "청불 영화로 데이터 수집하지 않습니다.\n",
            "https://serieson.naver.com//movie/detail.nhn?productNo=407636수집 중 = = 3 \n",
            "청불 영화로 데이터 수집하지 않습니다.\n",
            "https://serieson.naver.com//movie/detail.nhn?productNo=3509734수집 중 = = 3 \n",
            "5\n",
            "https://serieson.naver.com//movie/detail.nhn?productNo=3766068수집 중 = = 3 \n",
            "9\n",
            "https://serieson.naver.com//movie/detail.nhn?productNo=1974569수집 중 = = 3 \n",
            "청불 영화로 데이터 수집하지 않습니다.\n",
            "https://serieson.naver.com//movie/detail.nhn?productNo=5465063수집 중 = = 3 \n",
            "0\n",
            "https://serieson.naver.com//movie/detail.nhn?productNo=5673193수집 중 = = 3 \n",
            "9\n",
            "https://serieson.naver.com//movie/detail.nhn?productNo=4821120수집 중 = = 3 \n",
            "8\n",
            "https://serieson.naver.com//movie/detail.nhn?productNo=4180723수집 중 = = 3 \n",
            "6\n",
            "https://serieson.naver.com//movie/detail.nhn?productNo=3744354수집 중 = = 3 \n",
            "9\n",
            "https://serieson.naver.com//movie/detail.nhn?productNo=3406719수집 중 = = 3 \n",
            "8\n",
            "https://serieson.naver.com//movie/detail.nhn?productNo=3262026수집 중 = = 3 \n",
            "9\n",
            "https://serieson.naver.com//movie/detail.nhn?productNo=3262024수집 중 = = 3 \n",
            "9\n",
            "https://serieson.naver.com//movie/detail.nhn?productNo=1781025수집 중 = = 3 \n",
            "9\n",
            "https://serieson.naver.com//movie/detail.nhn?productNo=918042수집 중 = = 3 \n",
            "청불 영화로 데이터 수집하지 않습니다.\n",
            "https://serieson.naver.com//movie/detail.nhn?productNo=1521935수집 중 = = 3 \n",
            "9\n",
            "https://serieson.naver.com//movie/detail.nhn?productNo=6257257수집 중 = = 3 \n",
            "7\n",
            "https://serieson.naver.com//movie/detail.nhn?productNo=4465876수집 중 = = 3 \n",
            "7\n",
            "https://serieson.naver.com//movie/detail.nhn?productNo=4406203수집 중 = = 3 \n",
            "청불 영화로 데이터 수집하지 않습니다.\n",
            "https://serieson.naver.com//movie/detail.nhn?productNo=3327477수집 중 = = 3 \n",
            "8\n",
            "수집 완료 합니다 - - ! \n",
            "75 75 75\n"
          ],
          "name": "stdout"
        }
      ]
    },
    {
      "cell_type": "code",
      "metadata": {
        "id": "v_-KNMaQLwS3"
      },
      "source": [
        ""
      ],
      "execution_count": null,
      "outputs": []
    }
  ]
}