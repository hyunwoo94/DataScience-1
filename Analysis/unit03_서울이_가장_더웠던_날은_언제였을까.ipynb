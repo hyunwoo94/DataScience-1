{
  "nbformat": 4,
  "nbformat_minor": 0,
  "metadata": {
    "colab": {
      "name": "unit03-서울이 가장 더웠던 날은 언제였을까.ipynb",
      "provenance": [],
      "collapsed_sections": []
    },
    "kernelspec": {
      "name": "python3",
      "display_name": "Python 3"
    },
    "language_info": {
      "name": "python"
    }
  },
  "cells": [
    {
      "cell_type": "markdown",
      "metadata": {
        "id": "8jat3bNrh44p"
      },
      "source": [
        "step 1) 데이터 불러서 한 행씩 출력하기"
      ]
    },
    {
      "cell_type": "code",
      "metadata": {
        "id": "GhUesoHzhz-R"
      },
      "source": [
        "import csv\n",
        "f= open('/content/seoul.csv','r',encoding ='cp949')\n",
        "data = csv.reader(f)\n",
        "header = next(data) #헤더 추출\n",
        "\n",
        "for row in data:\n",
        "  print(row)\n",
        "  #최고기온 데이터만 추출 \n",
        "  row[-1] = float(row[-1]) #or float(row[4]) row4가 제일 마지막 컬럼이라 -1로도 가능\n",
        "\n",
        "f.close()\n"
      ],
      "execution_count": null,
      "outputs": []
    },
    {
      "cell_type": "markdown",
      "metadata": {
        "id": "j2-qyNQkkslT"
      },
      "source": [
        "step 2) 데이터 중 최고 기온을 실수로 변환하여 한 행씩 출력하기"
      ]
    },
    {
      "cell_type": "code",
      "metadata": {
        "id": "P4ZgkSGgjkN4"
      },
      "source": [
        "import csv \n",
        "\n",
        "max_temp = -999 #최고 기온 값을 저장할 변수\n",
        "max_data = '' #최고 기온이 가장 높았던 날짜를 저장하는 변수\n",
        "\n",
        "f= open('/content/seoul.csv','r',encoding ='cp949')\n",
        "data = csv.reader(f)\n",
        "header = next(data) #헤더 추출\n",
        "\n",
        "for row in data:\n",
        "\n",
        "  #최고 기온 데이터에 ''(결측치) 확인\n",
        "  if row[-1] == '':\n",
        "    row[-1] = -999\n",
        "  row[-1]=float(row[-1])\n",
        "  #row[0]:날짜\n",
        "  print(row[0], row[-1])"
      ],
      "execution_count": null,
      "outputs": []
    },
    {
      "cell_type": "markdown",
      "metadata": {
        "id": "EEWyHZkNrfIG"
      },
      "source": [
        "step 3) 최고 기온과 최고 기온이었던 날짜 찾기 "
      ]
    },
    {
      "cell_type": "code",
      "metadata": {
        "colab": {
          "base_uri": "https://localhost:8080/",
          "height": 257
        },
        "id": "YE0KqNn8my4k",
        "outputId": "87a5a63f-1c64-4873-fbb9-182a2fc7cbe6"
      },
      "source": [
        "import csv \n",
        "\n",
        "max_temp = -999 #최고 기온 값을 저장할 변수\n",
        "max_data = '' #최고 기온이 가장 높았던 날짜를 저장하는 변수\n",
        "\n",
        "f= open('/content/seoul.csv','r',encoding ='cp949')\n",
        "data = csv.reader(f)\n",
        "header = next(data) #헤더 추출\n",
        "\n",
        "for row in data:\n",
        "\n",
        "  #최고 기온 데이터에 ''(결측치) 확인\n",
        "  if row[-1] == '':\n",
        "    row[-1] = -999\n",
        "  #데이터 실수형으로 변환\n",
        "  row[-1]=float(row[-1])\n",
        "\n",
        "  #최고 기온 정보를 저장\n",
        "  if max_temp < row[-1]:\n",
        "    max_data = row[0]\n",
        "    max_temp = row[-1]\n",
        "f.close()\n",
        "\n",
        "print('기상 관측 이래 서울의 최고 기온이 가장 높았던 날은 ',max_data,'로',\n",
        "      max_temp,'도 였습니다.')\n"
      ],
      "execution_count": null,
      "outputs": [
        {
          "output_type": "stream",
          "text": [
            "기상 관측 이래 서울의 최고 기온이 가장 높았던 날은  2018-08-01 로 39.6 도 였습니다.\n"
          ],
          "name": "stdout"
        },
        {
          "output_type": "error",
          "ename": "NameError",
          "evalue": "ignored",
          "traceback": [
            "\u001b[0;31m---------------------------------------------------------------------------\u001b[0m",
            "\u001b[0;31mNameError\u001b[0m                                 Traceback (most recent call last)",
            "\u001b[0;32m<ipython-input-19-6af74e53df72>\u001b[0m in \u001b[0;36m<module>\u001b[0;34m()\u001b[0m\n\u001b[1;32m     24\u001b[0m print('기상 관측 이래 서울의 최고 기온이 가장 높았던 날은 ',max_data,'로',\n\u001b[1;32m     25\u001b[0m       max_temp,'도 였습니다.')\n\u001b[0;32m---> 26\u001b[0;31m \u001b[0mplt\u001b[0m\u001b[0;34m.\u001b[0m\u001b[0mfigure\u001b[0m\u001b[0;34m(\u001b[0m\u001b[0mdpi\u001b[0m\u001b[0;34m=\u001b[0m\u001b[0;36m200\u001b[0m\u001b[0;34m)\u001b[0m\u001b[0;34m\u001b[0m\u001b[0;34m\u001b[0m\u001b[0m\n\u001b[0m\u001b[1;32m     27\u001b[0m \u001b[0mplt\u001b[0m\u001b[0;34m.\u001b[0m\u001b[0mplot\u001b[0m\u001b[0;34m(\u001b[0m\u001b[0mmax_temp\u001b[0m\u001b[0;34m,\u001b[0m\u001b[0;34m'r'\u001b[0m\u001b[0;34m)\u001b[0m\u001b[0;34m\u001b[0m\u001b[0;34m\u001b[0m\u001b[0m\n\u001b[1;32m     28\u001b[0m \u001b[0mplt\u001b[0m\u001b[0;34m.\u001b[0m\u001b[0mshow\u001b[0m\u001b[0;34m(\u001b[0m\u001b[0;34m)\u001b[0m\u001b[0;34m\u001b[0m\u001b[0;34m\u001b[0m\u001b[0m\n",
            "\u001b[0;31mNameError\u001b[0m: name 'plt' is not defined"
          ]
        }
      ]
    },
    {
      "cell_type": "markdown",
      "metadata": {
        "id": "cntuFxi2soib"
      },
      "source": [
        "step 4) 최저 기온과 최저 기온이었던 날짜 찾기"
      ]
    },
    {
      "cell_type": "code",
      "metadata": {
        "colab": {
          "base_uri": "https://localhost:8080/"
        },
        "id": "aCRetmS1sgEq",
        "outputId": "e8961475-c7cb-4832-973d-663153fe9779"
      },
      "source": [
        "import csv \n",
        "\n",
        "min_temp = 999 #최저 기온 값을 저장할 변수\n",
        "min_data = '' #최저 기온이 가장 높았던 날짜를 저장하는 변수\n",
        "\n",
        "f= open('/content/seoul.csv','r',encoding ='cp949')\n",
        "data = csv.reader(f)\n",
        "header = next(data) #헤더 추출\n",
        "\n",
        "for row in data:\n",
        "\n",
        "  #최저 기온 데이터에 ''(결측치) 확인\n",
        "  if row[-2] == '':\n",
        "    row[-2] = 999\n",
        "  #데이터 실수형으로 변환\n",
        "  row[-2]=float(row[-2])\n",
        "\n",
        "  #최저 기온 정보를 저장\n",
        "  if min_temp > row[-2]:\n",
        "    min_data = row[0]\n",
        "    min_temp = row[-2]\n",
        "f.close()\n",
        "\n",
        "print('기상 관측 이래 서울의 최저 기온이 가장 낮았던 날은 ',min_data,'로',\n",
        "      min_temp,'도 였습니다.')"
      ],
      "execution_count": null,
      "outputs": [
        {
          "output_type": "stream",
          "text": [
            "기상 관측 이래 서울의 최저 기온이 가장 낮았던 날은  1927-12-31 로 -23.1 도 였습니다.\n"
          ],
          "name": "stdout"
        }
      ]
    },
    {
      "cell_type": "code",
      "metadata": {
        "id": "gwWZYuQns3rx"
      },
      "source": [
        ""
      ],
      "execution_count": null,
      "outputs": []
    }
  ]
}