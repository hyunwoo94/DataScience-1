{
  "nbformat": 4,
  "nbformat_minor": 0,
  "metadata": {
    "colab": {
      "name": "03_테이블형 수치 데이터 다루기.ipynb",
      "provenance": [],
      "collapsed_sections": []
    },
    "kernelspec": {
      "name": "python3",
      "display_name": "Python 3"
    },
    "language_info": {
      "name": "python"
    }
  },
  "cells": [
    {
      "cell_type": "markdown",
      "metadata": {
        "id": "0gonloAPjctn"
      },
      "source": [
        "10개의 양수로 된 간단한 numpy 배열 만들기<br>\n",
        "https://numpy.org/doc/stable/reference/routines.array-creation.html 참고\n"
      ]
    },
    {
      "cell_type": "code",
      "metadata": {
        "colab": {
          "base_uri": "https://localhost:8080/"
        },
        "id": "l12swI6wgQA7",
        "outputId": "3f21ef5f-92fa-4c9c-b703-db57ef170d4f"
      },
      "source": [
        "import numpy as np\n",
        "numbers = np.array(range(1,11), copy=True)\n",
        "numbers"
      ],
      "execution_count": null,
      "outputs": [
        {
          "output_type": "execute_result",
          "data": {
            "text/plain": [
              "array([ 1,  2,  3,  4,  5,  6,  7,  8,  9, 10])"
            ]
          },
          "metadata": {
            "tags": []
          },
          "execution_count": 2
        }
      ]
    },
    {
      "cell_type": "markdown",
      "metadata": {
        "id": "POdSYoocj-bW"
      },
      "source": [
        "ones()-> 1, zeros()-> 0, empty()-> 아직 생성되지 않은 엔트리로 구성<br>"
      ]
    },
    {
      "cell_type": "code",
      "metadata": {
        "colab": {
          "base_uri": "https://localhost:8080/"
        },
        "id": "awnZ0ObujlTJ",
        "outputId": "4c29b6c4-d4c6-4f2f-a619-9bb1c2d90446"
      },
      "source": [
        "# 아직 생성되지 않은 엔트리로 구성된 배열을 1로 채움\n",
        "ones = np.ones([2,4],dtype=np.float64)\n",
        "ones"
      ],
      "execution_count": null,
      "outputs": [
        {
          "output_type": "execute_result",
          "data": {
            "text/plain": [
              "array([[1., 1., 1., 1.],\n",
              "       [1., 1., 1., 1.]])"
            ]
          },
          "metadata": {
            "tags": []
          },
          "execution_count": 3
        }
      ]
    },
    {
      "cell_type": "code",
      "metadata": {
        "colab": {
          "base_uri": "https://localhost:8080/"
        },
        "id": "OV1TvxkUlSOX",
        "outputId": "1353dd25-574b-4b8c-b118-2a9db1682395"
      },
      "source": [
        "# 아직 생성되지 않은 엔트리로 구성된 배열을 0로 채움\n",
        "zeros = np.zeros([3,3], dtype = np.float64)\n",
        "zeros"
      ],
      "execution_count": null,
      "outputs": [
        {
          "output_type": "execute_result",
          "data": {
            "text/plain": [
              "array([[0., 0., 0.],\n",
              "       [0., 0., 0.],\n",
              "       [0., 0., 0.]])"
            ]
          },
          "metadata": {
            "tags": []
          },
          "execution_count": 5
        }
      ]
    },
    {
      "cell_type": "code",
      "metadata": {
        "colab": {
          "base_uri": "https://localhost:8080/"
        },
        "id": "lNTp2wrWlhTf",
        "outputId": "92bf7eee-08b6-42be-93a1-804f8dedbcf0"
      },
      "source": [
        "# 아직 생성되지 않은 엔트리로 구성된 배열\n",
        "empty = np.empty([2,4], dtype =np.float64)\n",
        "empty"
      ],
      "execution_count": null,
      "outputs": [
        {
          "output_type": "execute_result",
          "data": {
            "text/plain": [
              "array([[0., 0., 0., 0.],\n",
              "       [0., 0., 0., 0.]])"
            ]
          },
          "metadata": {
            "tags": []
          },
          "execution_count": 6
        }
      ]
    },
    {
      "cell_type": "code",
      "metadata": {
        "colab": {
          "base_uri": "https://localhost:8080/"
        },
        "id": "s--zwZ0MmScx",
        "outputId": "c9040275-dacd-44f7-81c2-2e3db1f605de"
      },
      "source": [
        "ones.shape\n",
        "# 2*4 배열 "
      ],
      "execution_count": null,
      "outputs": [
        {
          "output_type": "execute_result",
          "data": {
            "text/plain": [
              "(2, 4)"
            ]
          },
          "metadata": {
            "tags": []
          },
          "execution_count": 7
        }
      ]
    },
    {
      "cell_type": "code",
      "metadata": {
        "colab": {
          "base_uri": "https://localhost:8080/"
        },
        "id": "Fn4xHJMTmVXF",
        "outputId": "5b142588-460c-4c60-9c13-01d3837469bd"
      },
      "source": [
        "#numbers의 데이터타입\n",
        "numbers.dtype"
      ],
      "execution_count": null,
      "outputs": [
        {
          "output_type": "execute_result",
          "data": {
            "text/plain": [
              "dtype('int64')"
            ]
          },
          "metadata": {
            "tags": []
          },
          "execution_count": 8
        }
      ]
    },
    {
      "cell_type": "markdown",
      "metadata": {
        "id": "YLeKcU4UnDCZ"
      },
      "source": [
        "arrange(start,stop,step,dtype=None) 일정 간격으로 배열 생성하는 함수"
      ]
    },
    {
      "cell_type": "code",
      "metadata": {
        "colab": {
          "base_uri": "https://localhost:8080/"
        },
        "id": "Ej6cT9VAmt7z",
        "outputId": "e7b3b73b-ef56-4413-89c3-af9890260b21"
      },
      "source": [
        "np_numbers = np.arange(2,5,0.25)\n",
        "np_numbers"
      ],
      "execution_count": null,
      "outputs": [
        {
          "output_type": "execute_result",
          "data": {
            "text/plain": [
              "array([2.  , 2.25, 2.5 , 2.75, 3.  , 3.25, 3.5 , 3.75, 4.  , 4.25, 4.5 ,\n",
              "       4.75])"
            ]
          },
          "metadata": {
            "tags": []
          },
          "execution_count": 10
        }
      ]
    },
    {
      "cell_type": "markdown",
      "metadata": {
        "id": "VYsXKcjTnvMA"
      },
      "source": [
        "astype(dtype,casting=\"unssafe\",copy=True)아이템의 타입 변경해주는 함수"
      ]
    },
    {
      "cell_type": "code",
      "metadata": {
        "colab": {
          "base_uri": "https://localhost:8080/"
        },
        "id": "6J3yytI2nquV",
        "outputId": "4a0b481b-c1be-4ce7-b05d-eab0d64fe274"
      },
      "source": [
        "np_numbers = np_numbers.astype(np.int)\n",
        "#int로 타입 변경 (소숫점 다 날라감)\n",
        "np_numbers"
      ],
      "execution_count": null,
      "outputs": [
        {
          "output_type": "execute_result",
          "data": {
            "text/plain": [
              "array([2, 2, 2, 2, 3, 3, 3, 3, 4, 4, 4, 4])"
            ]
          },
          "metadata": {
            "tags": []
          },
          "execution_count": 11
        }
      ]
    },
    {
      "cell_type": "markdown",
      "metadata": {
        "id": "POgL3Ek4ocEL"
      },
      "source": [
        "reshape(d0, d1, ...) 대상 배열의 모양을 바꿔주는 함수\n"
      ]
    },
    {
      "cell_type": "code",
      "metadata": {
        "colab": {
          "base_uri": "https://localhost:8080/"
        },
        "id": "f9nXVCJXoCra",
        "outputId": "a65f677a-f42b-424d-8cf7-462214da5e08"
      },
      "source": [
        "# 몇 가지 S&P 주식 기호들\n",
        "sap = np.array([\"MMM\", \"ABT\", \"ABBV\", \"ACN\", \"ACE\", \"ATVI\", \"ADBE\", \"ADT\"])\n",
        "sap #U4 는 4글자 유니코드\n",
        "#sap.shape #형태 확인 "
      ],
      "execution_count": null,
      "outputs": [
        {
          "output_type": "execute_result",
          "data": {
            "text/plain": [
              "(8,)"
            ]
          },
          "metadata": {
            "tags": []
          },
          "execution_count": 13
        }
      ]
    },
    {
      "cell_type": "code",
      "metadata": {
        "colab": {
          "base_uri": "https://localhost:8080/"
        },
        "id": "yxqHY5zTowyW",
        "outputId": "7cdaf883-a4db-42f3-f13a-0f97545ccdb1"
      },
      "source": [
        "#2*4로 바뀜\n",
        "sap2d = sap.reshape(2,4)\n",
        "sap2d"
      ],
      "execution_count": null,
      "outputs": [
        {
          "output_type": "execute_result",
          "data": {
            "text/plain": [
              "array([['MMM', 'ABT', 'ABBV', 'ACN'],\n",
              "       ['ACE', 'ATVI', 'ADBE', 'ADT']], dtype='<U4')"
            ]
          },
          "metadata": {
            "tags": []
          },
          "execution_count": 16
        }
      ]
    },
    {
      "cell_type": "code",
      "metadata": {
        "colab": {
          "base_uri": "https://localhost:8080/"
        },
        "id": "RuViE-v2pK7O",
        "outputId": "4631d498-db2d-4484-e3fe-6661a416b732"
      },
      "source": [
        "# 기존 배열과 새로운 배열의 아이템의 개수는 항상 동일 해야 함\n",
        "# numpy 보존의 법칙 성립\n",
        "\n",
        "sap3d = sap.reshape(2,2,2) #3차원으로 변경\n",
        "sap3d\n"
      ],
      "execution_count": null,
      "outputs": [
        {
          "output_type": "execute_result",
          "data": {
            "text/plain": [
              "array([[['MMM', 'ABT'],\n",
              "        ['ABBV', 'ACN']],\n",
              "\n",
              "       [['ACE', 'ATVI'],\n",
              "        ['ADBE', 'ADT']]], dtype='<U4')"
            ]
          },
          "metadata": {
            "tags": []
          },
          "execution_count": 19
        }
      ]
    },
    {
      "cell_type": "markdown",
      "metadata": {
        "id": "X1vGsMmUrMfV"
      },
      "source": [
        "데이터 클리닝(data cleaning)을 위해 사용되는 boolean indexing"
      ]
    },
    {
      "cell_type": "code",
      "metadata": {
        "colab": {
          "base_uri": "https://localhost:8080/"
        },
        "id": "OPIrME66ppRx",
        "outputId": "53bacba5-1e8c-4a91-bbb8-6584ddeb9b1a"
      },
      "source": [
        "# 절대 음수 값이 와서는 안되는 데이터셋\n",
        "dirty = np.array([9,4,1,-0.01,-0.02,-0.001])\n",
        "\n",
        "whose_dirty = dirty < 0 #boolean indexing\n",
        "whose_dirty"
      ],
      "execution_count": null,
      "outputs": [
        {
          "output_type": "execute_result",
          "data": {
            "text/plain": [
              "array([False, False, False,  True,  True,  True])"
            ]
          },
          "metadata": {
            "tags": []
          },
          "execution_count": 21
        }
      ]
    },
    {
      "cell_type": "code",
      "metadata": {
        "colab": {
          "base_uri": "https://localhost:8080/"
        },
        "id": "8DHVx6VWsBa4",
        "outputId": "4c00dca3-43e9-4cb4-d331-b24c198a83b9"
      },
      "source": [
        "dirty[whose_dirty] =0\n",
        "dirty"
      ],
      "execution_count": null,
      "outputs": [
        {
          "output_type": "execute_result",
          "data": {
            "text/plain": [
              "array([9., 4., 1., 0., 0., 0.])"
            ]
          },
          "metadata": {
            "tags": []
          },
          "execution_count": 22
        }
      ]
    },
    {
      "cell_type": "markdown",
      "metadata": {
        "id": "6NCMjn4Nxv-B"
      },
      "source": [
        "논리 연산자 | or, & and, - not 결합하여 boolean indexing 사용\n"
      ]
    },
    {
      "cell_type": "code",
      "metadata": {
        "colab": {
          "base_uri": "https://localhost:8080/"
        },
        "id": "OiU109NZsrg2",
        "outputId": "71493636-313a-4905-a294-5d3c8698366f"
      },
      "source": [
        "linear = np.arange(-1,1.1,0.2)\n",
        "linear"
      ],
      "execution_count": null,
      "outputs": [
        {
          "output_type": "execute_result",
          "data": {
            "text/plain": [
              "array([-1.00000000e+00, -8.00000000e-01, -6.00000000e-01, -4.00000000e-01,\n",
              "       -2.00000000e-01, -2.22044605e-16,  2.00000000e-01,  4.00000000e-01,\n",
              "        6.00000000e-01,  8.00000000e-01,  1.00000000e+00])"
            ]
          },
          "metadata": {
            "tags": []
          },
          "execution_count": 25
        }
      ]
    },
    {
      "cell_type": "code",
      "metadata": {
        "colab": {
          "base_uri": "https://localhost:8080/"
        },
        "id": "blRr8fNdx0Tb",
        "outputId": "dc48ecb2-4fbc-4035-99c9-14e839ff50d2"
      },
      "source": [
        "# -0.5 ~0.5 사이의 값만 0으로 변경\n",
        "whos_linear = (linear <=0.5) & (linear >= -0.5)\n",
        "whos_linear"
      ],
      "execution_count": null,
      "outputs": [
        {
          "output_type": "execute_result",
          "data": {
            "text/plain": [
              "array([False, False, False,  True,  True,  True,  True,  True, False,\n",
              "       False, False])"
            ]
          },
          "metadata": {
            "tags": []
          },
          "execution_count": 26
        }
      ]
    },
    {
      "cell_type": "code",
      "metadata": {
        "colab": {
          "base_uri": "https://localhost:8080/"
        },
        "id": "FT3Q99D-ynun",
        "outputId": "c4446159-c3d9-471c-87e9-dc51969c4158"
      },
      "source": [
        "linear[whos_linear]=0\n",
        "linear"
      ],
      "execution_count": null,
      "outputs": [
        {
          "output_type": "execute_result",
          "data": {
            "text/plain": [
              "array([-1. , -0.8, -0.6,  0. ,  0. ,  0. ,  0. ,  0. ,  0.6,  0.8,  1. ])"
            ]
          },
          "metadata": {
            "tags": []
          },
          "execution_count": 27
        }
      ]
    },
    {
      "cell_type": "markdown",
      "metadata": {
        "id": "KXGg9XUDzKw2"
      },
      "source": [
        "스마트 인덱싱"
      ]
    },
    {
      "cell_type": "code",
      "metadata": {
        "colab": {
          "base_uri": "https://localhost:8080/"
        },
        "id": "EfIe5L4NzHu7",
        "outputId": "1927d4ff-f38e-4fe0-fd99-622174c87eda"
      },
      "source": [
        "# s&p 리스트에서 두번째, 세번째, 마지막 주식 기호를 추출\n",
        "sap[[1,2,-1]]"
      ],
      "execution_count": null,
      "outputs": [
        {
          "output_type": "execute_result",
          "data": {
            "text/plain": [
              "array(['ABT', 'ABBV', 'ADT'], dtype='<U4')"
            ]
          },
          "metadata": {
            "tags": []
          },
          "execution_count": 29
        }
      ]
    },
    {
      "cell_type": "code",
      "metadata": {
        "colab": {
          "base_uri": "https://localhost:8080/"
        },
        "id": "m7SH8oCTzRoH",
        "outputId": "40308521-8386-4a5e-d86a-c7728e88d025"
      },
      "source": [
        "sap2d"
      ],
      "execution_count": null,
      "outputs": [
        {
          "output_type": "execute_result",
          "data": {
            "text/plain": [
              "array([['MMM', 'ABT', 'ABBV', 'ACN'],\n",
              "       ['ACE', 'ATVI', 'ADBE', 'ADT']], dtype='<U4')"
            ]
          },
          "metadata": {
            "tags": []
          },
          "execution_count": 30
        }
      ]
    },
    {
      "cell_type": "code",
      "metadata": {
        "colab": {
          "base_uri": "https://localhost:8080/"
        },
        "id": "X8a5crmVzlfO",
        "outputId": "faa45bb3-2c9a-4365-9660-37e11dcea210"
      },
      "source": [
        "sap2d[:,[1]]"
      ],
      "execution_count": null,
      "outputs": [
        {
          "output_type": "execute_result",
          "data": {
            "text/plain": [
              "array([['ABT'],\n",
              "       ['ATVI']], dtype='<U4')"
            ]
          },
          "metadata": {
            "tags": []
          },
          "execution_count": 31
        }
      ]
    },
    {
      "cell_type": "code",
      "metadata": {
        "colab": {
          "base_uri": "https://localhost:8080/"
        },
        "id": "1iQEJb4nzo8d",
        "outputId": "c3989dd6-7311-4f3b-caa0-931a01fc7549"
      },
      "source": [
        "sap2d[:,1]"
      ],
      "execution_count": null,
      "outputs": [
        {
          "output_type": "execute_result",
          "data": {
            "text/plain": [
              "array(['ABT', 'ATVI'], dtype='<U4')"
            ]
          },
          "metadata": {
            "tags": []
          },
          "execution_count": 32
        }
      ]
    },
    {
      "cell_type": "markdown",
      "metadata": {
        "id": "TwD073s_0eAM"
      },
      "source": [
        "차원만 같다면 numpy에서는 사칙연산 가능 (그낭 더하기) -> 브로드캐스팅\n"
      ]
    },
    {
      "cell_type": "code",
      "metadata": {
        "colab": {
          "base_uri": "https://localhost:8080/"
        },
        "id": "PLCMtK8vz6Sx",
        "outputId": "f1e34a0c-47ea-4688-f982-1fe1deff9c97"
      },
      "source": [
        "a = np.arange(4)\n",
        "b = np.arange(1,5)\n",
        "print(a)\n",
        "print(b)"
      ],
      "execution_count": null,
      "outputs": [
        {
          "output_type": "stream",
          "text": [
            "[0 1 2 3]\n",
            "[1 2 3 4]\n"
          ],
          "name": "stdout"
        }
      ]
    },
    {
      "cell_type": "code",
      "metadata": {
        "colab": {
          "base_uri": "https://localhost:8080/"
        },
        "id": "QALq_P2a0jZx",
        "outputId": "cebb8db9-f358-4219-8934-f1fa1443b5e2"
      },
      "source": [
        "a+b"
      ],
      "execution_count": null,
      "outputs": [
        {
          "output_type": "execute_result",
          "data": {
            "text/plain": [
              "array([1, 3, 5, 7])"
            ]
          },
          "metadata": {
            "tags": []
          },
          "execution_count": 34
        }
      ]
    },
    {
      "cell_type": "code",
      "metadata": {
        "colab": {
          "base_uri": "https://localhost:8080/"
        },
        "id": "l74X-r9j0kMq",
        "outputId": "0cf29f1a-4fc4-45fe-c7ee-e068e51a3bf6"
      },
      "source": [
        "a*5"
      ],
      "execution_count": null,
      "outputs": [
        {
          "output_type": "execute_result",
          "data": {
            "text/plain": [
              "array([ 0,  5, 10, 15])"
            ]
          },
          "metadata": {
            "tags": []
          },
          "execution_count": 35
        }
      ]
    },
    {
      "cell_type": "code",
      "metadata": {
        "colab": {
          "base_uri": "https://localhost:8080/"
        },
        "id": "416KmeMj0lvs",
        "outputId": "dcb66209-a343-4f6c-a615-ca9879f46700"
      },
      "source": [
        "noise = np.eye(4) + 0.01 * np.random.random([4,4])\n",
        "noise"
      ],
      "execution_count": null,
      "outputs": [
        {
          "output_type": "execute_result",
          "data": {
            "text/plain": [
              "array([[1.00022220e+00, 5.63447720e-03, 3.04071466e-04, 3.65819979e-03],\n",
              "       [1.75373031e-03, 1.00601576e+00, 8.63203935e-03, 4.51259225e-03],\n",
              "       [6.53082841e-03, 1.18664000e-03, 1.00472262e+00, 5.81437716e-03],\n",
              "       [7.34923932e-03, 6.13328358e-04, 8.86513327e-04, 1.00420769e+00]])"
            ]
          },
          "metadata": {
            "tags": []
          },
          "execution_count": 40
        }
      ]
    },
    {
      "cell_type": "code",
      "metadata": {
        "id": "No2tajxm2E9e"
      },
      "source": [
        "np.eye"
      ],
      "execution_count": null,
      "outputs": []
    }
  ]
}