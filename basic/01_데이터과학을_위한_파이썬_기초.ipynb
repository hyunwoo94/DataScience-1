{
  "nbformat": 4,
  "nbformat_minor": 0,
  "metadata": {
    "colab": {
      "name": "01_데이터과학을 위한 파이썬 기초.ipynb",
      "provenance": [],
      "collapsed_sections": []
    },
    "kernelspec": {
      "name": "python3",
      "display_name": "Python 3"
    },
    "language_info": {
      "name": "python"
    }
  },
  "cells": [
    {
      "cell_type": "markdown",
      "metadata": {
        "id": "UB7PQ4jOv_ZX"
      },
      "source": [
        "strip() 공백 제거 함수"
      ]
    },
    {
      "cell_type": "code",
      "metadata": {
        "colab": {
          "base_uri": "https://localhost:8080/",
          "height": 35
        },
        "id": "HXPNYgojvo-p",
        "outputId": "ba185a79-b757-4fdf-b260-55936ff38dde"
      },
      "source": [
        "st = 'Hello world! \\t\\t\\n'\n",
        "# \\n:줄바꿈 \n",
        "# \\t: 탭 \n",
        "# \\r:개행 문자(캐리지 리턴 : 커서를 행의 앞으로 이동. 잘 사용하지 않는다.)\n",
        "st"
      ],
      "execution_count": null,
      "outputs": [
        {
          "output_type": "execute_result",
          "data": {
            "application/vnd.google.colaboratory.intrinsic+json": {
              "type": "string"
            },
            "text/plain": [
              "'Hello world! \\t\\t\\n'"
            ]
          },
          "metadata": {
            "tags": []
          },
          "execution_count": 34
        }
      ]
    },
    {
      "cell_type": "code",
      "metadata": {
        "colab": {
          "base_uri": "https://localhost:8080/",
          "height": 35
        },
        "id": "Szvpp6vWwScz",
        "outputId": "dd8b282c-bd0b-4f9c-e39c-6cfb5e11c012"
      },
      "source": [
        "st.strip() #전체 공백 제거"
      ],
      "execution_count": null,
      "outputs": [
        {
          "output_type": "execute_result",
          "data": {
            "application/vnd.google.colaboratory.intrinsic+json": {
              "type": "string"
            },
            "text/plain": [
              "'Hello world!'"
            ]
          },
          "metadata": {
            "tags": []
          },
          "execution_count": 14
        }
      ]
    },
    {
      "cell_type": "code",
      "metadata": {
        "colab": {
          "base_uri": "https://localhost:8080/",
          "height": 35
        },
        "id": "3HZzjA8-wbue",
        "outputId": "16b3838c-b188-4f89-aa0d-9a377beb99bf"
      },
      "source": [
        "st.lstrip() #왼쪽 공백 제거"
      ],
      "execution_count": null,
      "outputs": [
        {
          "output_type": "execute_result",
          "data": {
            "application/vnd.google.colaboratory.intrinsic+json": {
              "type": "string"
            },
            "text/plain": [
              "'Hello world! \\t\\t\\n'"
            ]
          },
          "metadata": {
            "tags": []
          },
          "execution_count": 15
        }
      ]
    },
    {
      "cell_type": "code",
      "metadata": {
        "colab": {
          "base_uri": "https://localhost:8080/",
          "height": 35
        },
        "id": "hJA_F2vmw4Ls",
        "outputId": "ba9473f2-036c-4d0f-af0d-9425229bf003"
      },
      "source": [
        "st.rstrip() #오른쪽 공백 제거"
      ],
      "execution_count": null,
      "outputs": [
        {
          "output_type": "execute_result",
          "data": {
            "application/vnd.google.colaboratory.intrinsic+json": {
              "type": "string"
            },
            "text/plain": [
              "'Hello world!'"
            ]
          },
          "metadata": {
            "tags": []
          },
          "execution_count": 16
        }
      ]
    },
    {
      "cell_type": "markdown",
      "metadata": {
        "id": "HzmwqTk3xcFh"
      },
      "source": [
        "split(delim=\"\") 문자열 자르기 함수"
      ]
    },
    {
      "cell_type": "code",
      "metadata": {
        "colab": {
          "base_uri": "https://localhost:8080/"
        },
        "id": "fS-Bdw82xbKv",
        "outputId": "d540b172-5014-4dd3-f5e9-4c0005fbfce3"
      },
      "source": [
        "\"Hello, world\".split() # delim 구분자 -> default 공백"
      ],
      "execution_count": null,
      "outputs": [
        {
          "output_type": "execute_result",
          "data": {
            "text/plain": [
              "['Hello,', 'world']"
            ]
          },
          "metadata": {
            "tags": []
          },
          "execution_count": 17
        }
      ]
    },
    {
      "cell_type": "code",
      "metadata": {
        "colab": {
          "base_uri": "https://localhost:8080/"
        },
        "id": "bMz2bWE4xsfL",
        "outputId": "5372db9f-f676-4bd2-beb6-98d6db6786f4"
      },
      "source": [
        "\"Hello, world\".split(\",\") # 구분자 -> ,(콤마)"
      ],
      "execution_count": null,
      "outputs": [
        {
          "output_type": "execute_result",
          "data": {
            "text/plain": [
              "['Hello', ' world']"
            ]
          },
          "metadata": {
            "tags": []
          },
          "execution_count": 20
        }
      ]
    },
    {
      "cell_type": "code",
      "metadata": {
        "colab": {
          "base_uri": "https://localhost:8080/"
        },
        "id": "Ytc2DPrpx8cb",
        "outputId": "09b12eca-74bd-4636-ff53-3e35bec71237"
      },
      "source": [
        "\"www.networksciencelab.com\".split(\".\")"
      ],
      "execution_count": null,
      "outputs": [
        {
          "output_type": "execute_result",
          "data": {
            "text/plain": [
              "['www', 'networksciencelab', 'com']"
            ]
          },
          "metadata": {
            "tags": []
          },
          "execution_count": 21
        }
      ]
    },
    {
      "cell_type": "markdown",
      "metadata": {
        "id": "0BmzGxKyyszZ"
      },
      "source": [
        "join(list) 문자열을 연결시키는 함수 "
      ]
    },
    {
      "cell_type": "code",
      "metadata": {
        "colab": {
          "base_uri": "https://localhost:8080/",
          "height": 35
        },
        "id": "XJm5lZiqyt2k",
        "outputId": "bd5b962e-e781-411e-fd26-7ed09aeff529"
      },
      "source": [
        "\" - \".join(['alpha','bravo','charlie','delta']) \n",
        "# - 로 리스트안의 내용을 연결"
      ],
      "execution_count": null,
      "outputs": [
        {
          "output_type": "execute_result",
          "data": {
            "application/vnd.google.colaboratory.intrinsic+json": {
              "type": "string"
            },
            "text/plain": [
              "'alpha - bravo - charlie - delta'"
            ]
          },
          "metadata": {
            "tags": []
          },
          "execution_count": 25
        }
      ]
    },
    {
      "cell_type": "code",
      "metadata": {
        "colab": {
          "base_uri": "https://localhost:8080/",
          "height": 35
        },
        "id": "OreHu41ZzEzz",
        "outputId": "260974d0-ee18-4e13-e290-40c980b575eb"
      },
      "source": [
        "\" - \".join(\"1.617.304.1985\".split(\".\"))"
      ],
      "execution_count": null,
      "outputs": [
        {
          "output_type": "execute_result",
          "data": {
            "application/vnd.google.colaboratory.intrinsic+json": {
              "type": "string"
            },
            "text/plain": [
              "'1 - 617 - 304 - 1985'"
            ]
          },
          "metadata": {
            "tags": []
          },
          "execution_count": 26
        }
      ]
    },
    {
      "cell_type": "code",
      "metadata": {
        "colab": {
          "base_uri": "https://localhost:8080/",
          "height": 35
        },
        "id": "pv9cTOT-0gCS",
        "outputId": "bbf7afe0-f1bd-484a-fb8e-42da2cdafaec"
      },
      "source": [
        "\" \".join(\"This string \\n\\r has many \\t\\tspaces\".split())\n",
        "# 공백기준으로 문자열 자르기 \"This string \\n\\r has many \\t\\tspaces\".split()\n",
        "# 자른 문자열 join으로 합치기 "
      ],
      "execution_count": null,
      "outputs": [
        {
          "output_type": "execute_result",
          "data": {
            "application/vnd.google.colaboratory.intrinsic+json": {
              "type": "string"
            },
            "text/plain": [
              "'This string has many spaces'"
            ]
          },
          "metadata": {
            "tags": []
          },
          "execution_count": 27
        }
      ]
    },
    {
      "cell_type": "markdown",
      "metadata": {
        "id": "LMxRjezv2NO_"
      },
      "source": [
        "find(needle) 해당 문자열에 부분 문자열 needle 처음 등장하는 인덱스 반환(위치) 없으면 -1 , 반환하는 함수(대소문자 구분)"
      ]
    },
    {
      "cell_type": "code",
      "metadata": {
        "colab": {
          "base_uri": "https://localhost:8080/"
        },
        "id": "prwM5lOL2Fgt",
        "outputId": "8a181ae5-7833-45a6-d853-9706154b45f2"
      },
      "source": [
        "\"www.networksciencelab.com\".find(\".com\")"
      ],
      "execution_count": null,
      "outputs": [
        {
          "output_type": "execute_result",
          "data": {
            "text/plain": [
              "21"
            ]
          },
          "metadata": {
            "tags": []
          },
          "execution_count": 30
        }
      ]
    },
    {
      "cell_type": "code",
      "metadata": {
        "id": "QGS5s4Q22apO"
      },
      "source": [
        "\"www.networksciencelab.com\".find(\".Com\")"
      ],
      "execution_count": null,
      "outputs": []
    },
    {
      "cell_type": "markdown",
      "metadata": {
        "id": "7WcQ9H3S2kyK"
      },
      "source": [
        "count(needle) 해당 문자열에서 등장하는 횟수를 반환하는 함수 없으면 0 (대소문자 구분) "
      ]
    },
    {
      "cell_type": "code",
      "metadata": {
        "colab": {
          "base_uri": "https://localhost:8080/"
        },
        "id": "oFqIdbQ52jRm",
        "outputId": "72b8ea33-4e1d-4115-a0fe-666c1a8d596a"
      },
      "source": [
        "\"www.networksciencelab.com\".count(\".\")"
      ],
      "execution_count": null,
      "outputs": [
        {
          "output_type": "execute_result",
          "data": {
            "text/plain": [
              "2"
            ]
          },
          "metadata": {
            "tags": []
          },
          "execution_count": 31
        }
      ]
    },
    {
      "cell_type": "code",
      "metadata": {
        "colab": {
          "base_uri": "https://localhost:8080/"
        },
        "id": "VqoiQLNY27LW",
        "outputId": "8a6cf36d-7f8f-4aae-d081-eff90acdb86c"
      },
      "source": [
        "\"www.networksciencelab.com\".count(\"/\")"
      ],
      "execution_count": null,
      "outputs": [
        {
          "output_type": "execute_result",
          "data": {
            "text/plain": [
              "0"
            ]
          },
          "metadata": {
            "tags": []
          },
          "execution_count": 33
        }
      ]
    },
    {
      "cell_type": "markdown",
      "metadata": {
        "id": "C5Zj3w-y31CA"
      },
      "source": [
        "프레디케이트 함수 > 문자열 s가 특정 클래스에 속하는지 true,false로 반환"
      ]
    },
    {
      "cell_type": "code",
      "metadata": {
        "colab": {
          "base_uri": "https://localhost:8080/"
        },
        "id": "AW9shvPS29bs",
        "outputId": "a5385f60-0958-4c4a-e8cc-ae8f2a96b591"
      },
      "source": [
        "\"www.networksciencelab.com\".islower()\n",
        "# 그냥 소문자로 전체 다 바꾸고 싶으면 lower()\n",
        "#\"www.networksciencelab.com\".lower()"
      ],
      "execution_count": null,
      "outputs": [
        {
          "output_type": "execute_result",
          "data": {
            "text/plain": [
              "True"
            ]
          },
          "metadata": {
            "tags": []
          },
          "execution_count": 42
        }
      ]
    },
    {
      "cell_type": "code",
      "metadata": {
        "colab": {
          "base_uri": "https://localhost:8080/",
          "height": 35
        },
        "id": "fFONQnxB3_3r",
        "outputId": "02061498-95f7-4ab3-eae6-2608406214c0"
      },
      "source": [
        "\"www.networksciencelab.com\".isupper()\n",
        "# 그냥 대문자로 전체 다 바꾸고 싶으면 upper()\n",
        "#\"www.networksciencelab.com\".upper()"
      ],
      "execution_count": null,
      "outputs": [
        {
          "output_type": "execute_result",
          "data": {
            "application/vnd.google.colaboratory.intrinsic+json": {
              "type": "string"
            },
            "text/plain": [
              "'WWW.NETWORKSCIENCELAB.COM'"
            ]
          },
          "metadata": {
            "tags": []
          },
          "execution_count": 44
        }
      ]
    },
    {
      "cell_type": "code",
      "metadata": {
        "colab": {
          "base_uri": "https://localhost:8080/"
        },
        "id": "aqZ83_HN4bBh",
        "outputId": "1151f7ee-0ff6-4bae-c460-6f9a3849651b"
      },
      "source": [
        "\"www.networksciencelab.com\".isdigit()\n",
        "#0-9사이 숫자인지 확인"
      ],
      "execution_count": null,
      "outputs": [
        {
          "output_type": "execute_result",
          "data": {
            "text/plain": [
              "False"
            ]
          },
          "metadata": {
            "tags": []
          },
          "execution_count": 45
        }
      ]
    },
    {
      "cell_type": "code",
      "metadata": {
        "colab": {
          "base_uri": "https://localhost:8080/"
        },
        "id": "vZFZrXIa4lBg",
        "outputId": "ddb08311-f9be-432e-dcf4-e4e93e4c2266"
      },
      "source": [
        "\"www.networksciencelab.com\".isalpha()\n",
        "#알파벳인지? dot(.)제거해야만 true"
      ],
      "execution_count": null,
      "outputs": [
        {
          "output_type": "execute_result",
          "data": {
            "text/plain": [
              "False"
            ]
          },
          "metadata": {
            "tags": []
          },
          "execution_count": 46
        }
      ]
    },
    {
      "cell_type": "markdown",
      "metadata": {
        "id": "Ea4ZjMQN5CJT"
      },
      "source": [
        "대소문자 변환 함수 > 모든 문자 대소문자 변환(문자열 s의 복사본 반환)"
      ]
    },
    {
      "cell_type": "code",
      "metadata": {
        "colab": {
          "base_uri": "https://localhost:8080/",
          "height": 35
        },
        "id": "KbToEa5J4rpV",
        "outputId": "ec9bc202-2eb0-410b-d418-91057d2f74d3"
      },
      "source": [
        "st = \"www.networksciencelab.com\".upper()\n",
        "st"
      ],
      "execution_count": null,
      "outputs": [
        {
          "output_type": "execute_result",
          "data": {
            "application/vnd.google.colaboratory.intrinsic+json": {
              "type": "string"
            },
            "text/plain": [
              "'WWW.NETWORKSCIENCELAB.COM'"
            ]
          },
          "metadata": {
            "tags": []
          },
          "execution_count": 56
        }
      ]
    },
    {
      "cell_type": "code",
      "metadata": {
        "colab": {
          "base_uri": "https://localhost:8080/",
          "height": 35
        },
        "id": "8gAagfaB5SPB",
        "outputId": "16cc5aa0-e88f-420a-e862-566cf65fdbbc"
      },
      "source": [
        "st.lower()"
      ],
      "execution_count": null,
      "outputs": [
        {
          "output_type": "execute_result",
          "data": {
            "application/vnd.google.colaboratory.intrinsic+json": {
              "type": "string"
            },
            "text/plain": [
              "'www.networksciencelab.com'"
            ]
          },
          "metadata": {
            "tags": []
          },
          "execution_count": 57
        }
      ]
    },
    {
      "cell_type": "code",
      "metadata": {
        "colab": {
          "base_uri": "https://localhost:8080/",
          "height": 35
        },
        "id": "aThSxoBc5Tuv",
        "outputId": "e0c1d519-689a-493c-8eb8-cb12b5ac7b5d"
      },
      "source": [
        "st"
      ],
      "execution_count": null,
      "outputs": [
        {
          "output_type": "execute_result",
          "data": {
            "application/vnd.google.colaboratory.intrinsic+json": {
              "type": "string"
            },
            "text/plain": [
              "'WWW.NETWORKSCIENCELAB.COM'"
            ]
          },
          "metadata": {
            "tags": []
          },
          "execution_count": 58
        }
      ]
    },
    {
      "cell_type": "markdown",
      "metadata": {
        "id": "bufHpct5JvXY"
      },
      "source": [
        "2. 올바른 자료구조 선택하기\n",
        "\n",
        "---\n",
        "\n",
        "중복된 아이템들이 있는 리스트 -> myList"
      ]
    },
    {
      "cell_type": "code",
      "metadata": {
        "colab": {
          "base_uri": "https://localhost:8080/"
        },
        "id": "9dzBb9uXN8ef",
        "outputId": "98644beb-efcf-4d75-b6e9-aec4c1b9b117"
      },
      "source": [
        "myList = \"This string\\n\\r has many\\t\\tspaces\\tThis string\\n\\r has many\\t\\tspaces\".split()\n",
        "myList"
      ],
      "execution_count": null,
      "outputs": [
        {
          "output_type": "execute_result",
          "data": {
            "text/plain": [
              "['This',\n",
              " 'string',\n",
              " 'has',\n",
              " 'many',\n",
              " 'spaces',\n",
              " 'This',\n",
              " 'string',\n",
              " 'has',\n",
              " 'many',\n",
              " 'spaces']"
            ]
          },
          "metadata": {
            "tags": []
          },
          "execution_count": 59
        }
      ]
    },
    {
      "cell_type": "markdown",
      "metadata": {
        "id": "poREL12XON2Y"
      },
      "source": [
        "리스트 > 셋변환 > 다시 리스트로 변환\n",
        "\n",
        "셋은 중복허용이 되지 않는다. "
      ]
    },
    {
      "cell_type": "code",
      "metadata": {
        "id": "HbKu5rFtOAM7"
      },
      "source": [
        "# 셋변환 (중복제거)\n",
        "set(myList)\n",
        "\n",
        "# 중복 제거한 데이터를 리스트로 변환\n",
        "myList = list(set(myList))"
      ],
      "execution_count": null,
      "outputs": []
    },
    {
      "cell_type": "code",
      "metadata": {
        "colab": {
          "base_uri": "https://localhost:8080/"
        },
        "id": "8yLasvc-OdOo",
        "outputId": "bbffccd1-dd08-43c4-bc42-8e0ec8320b7e"
      },
      "source": [
        "myList"
      ],
      "execution_count": null,
      "outputs": [
        {
          "output_type": "execute_result",
          "data": {
            "text/plain": [
              "['many', 'has', 'spaces', 'string', 'This']"
            ]
          },
          "metadata": {
            "tags": []
          },
          "execution_count": 65
        }
      ]
    },
    {
      "cell_type": "markdown",
      "metadata": {
        "id": "JnP4zOT4PVH6"
      },
      "source": [
        "리스트 vs 셋 회원 명단 조회하기"
      ]
    },
    {
      "cell_type": "code",
      "metadata": {
        "colab": {
          "base_uri": "https://localhost:8080/"
        },
        "id": "d1JSz_dCOxDJ",
        "outputId": "fa972d4d-6d80-42a2-8a58-47ae3bc7764b"
      },
      "source": [
        "bigList = [str(i) for i in range(10000000)]\n",
        "\"abd\" in bigList #2초"
      ],
      "execution_count": null,
      "outputs": [
        {
          "output_type": "execute_result",
          "data": {
            "text/plain": [
              "False"
            ]
          },
          "metadata": {
            "tags": []
          },
          "execution_count": 68
        }
      ]
    },
    {
      "cell_type": "code",
      "metadata": {
        "colab": {
          "base_uri": "https://localhost:8080/"
        },
        "id": "RXD8tgpBPjrc",
        "outputId": "7e5e79d8-8159-467f-8ff8-489b2ecd6eb3"
      },
      "source": [
        "bigList = set(bigList) #셋으로 변환하면 이미 중복이 제거되기때문에 데이터조회시 빠름\n",
        "\"abc\" in bigList #0초"
      ],
      "execution_count": null,
      "outputs": [
        {
          "output_type": "execute_result",
          "data": {
            "text/plain": [
              "False"
            ]
          },
          "metadata": {
            "tags": []
          },
          "execution_count": 70
        }
      ]
    },
    {
      "cell_type": "markdown",
      "metadata": {
        "id": "bBKaEj72Rb_Q"
      },
      "source": [
        "딕셔너리 (키 값으로 검색해야 할 때 매우 유용)\n",
        "enumerate 사용"
      ]
    },
    {
      "cell_type": "code",
      "metadata": {
        "colab": {
          "base_uri": "https://localhost:8080/"
        },
        "id": "_SEsRp6wQEtC",
        "outputId": "23d89a84-2e78-47b5-edea-5b8a643e97ff"
      },
      "source": [
        "# 1) 리스트 준비\n",
        "seq = ['alpha','bravo','charile','delta']\n",
        "\n",
        "# 2) 딕셔너리 만들기 -> 인덱스 정보를 key, data를 value\n",
        "dict(enumerate(seq))"
      ],
      "execution_count": null,
      "outputs": [
        {
          "output_type": "execute_result",
          "data": {
            "text/plain": [
              "{0: 'alpha', 1: 'bravo', 2: 'charile', 3: 'delta'}"
            ]
          },
          "metadata": {
            "tags": []
          },
          "execution_count": 73
        }
      ]
    },
    {
      "cell_type": "markdown",
      "metadata": {
        "id": "Wh5IJZtkTnak"
      },
      "source": [
        "리스트 딕셔너리 만들기\n",
        "\n",
        "키 순서열과 값 순서열에 클래스 생성자인 zip(key, value)사용"
      ]
    },
    {
      "cell_type": "code",
      "metadata": {
        "colab": {
          "base_uri": "https://localhost:8080/"
        },
        "id": "A2gOY46BSoFQ",
        "outputId": "08a9762a-e9f2-441a-b5e6-c6f5fccb0ad4"
      },
      "source": [
        "kseq = \"abcd\"\n",
        "vseq = ['alpha','bravo','charile','delta']\n",
        "dict(zip(kseq,vseq))"
      ],
      "execution_count": null,
      "outputs": [
        {
          "output_type": "execute_result",
          "data": {
            "text/plain": [
              "{'a': 'alpha', 'b': 'bravo', 'c': 'charile', 'd': 'delta'}"
            ]
          },
          "metadata": {
            "tags": []
          },
          "execution_count": 81
        }
      ]
    },
    {
      "cell_type": "markdown",
      "metadata": {
        "id": "SN7A3Jd2aE_u"
      },
      "source": [
        "카운터(counter)는 딕셔너리 스타일의 컬렉션에서 다른 컬렉션 안의 아이템 개수 셀 때 사용"
      ]
    },
    {
      "cell_type": "code",
      "metadata": {
        "colab": {
          "base_uri": "https://localhost:8080/"
        },
        "id": "OtxggvYcT5Bb",
        "outputId": "27e9eae2-ce6f-4427-eb71-5d8e3746e30e"
      },
      "source": [
        "from collections import Counter as ct\n",
        "phrase = \"a man a plan a canal panama\"\n",
        "ls = phrase.split()\n",
        "ls #리스트형태"
      ],
      "execution_count": null,
      "outputs": [
        {
          "output_type": "execute_result",
          "data": {
            "text/plain": [
              "['a', 'man', 'a', 'plan', 'a', 'canal', 'panama']"
            ]
          },
          "metadata": {
            "tags": []
          },
          "execution_count": 86
        }
      ]
    },
    {
      "cell_type": "code",
      "metadata": {
        "colab": {
          "base_uri": "https://localhost:8080/"
        },
        "id": "nJ8M2cM2aj06",
        "outputId": "a98b2af3-9354-4a89-abaf-bd987d53259a"
      },
      "source": [
        "cntr = ct(ls)\n",
        "cntr.most_common() #가장 빈번하게 증장한 (n)개의 아이템과 빈도 추출"
      ],
      "execution_count": null,
      "outputs": [
        {
          "output_type": "execute_result",
          "data": {
            "text/plain": [
              "[('a', 3), ('man', 1), ('plan', 1), ('canal', 1), ('panama', 1)]"
            ]
          },
          "metadata": {
            "tags": []
          },
          "execution_count": 96
        }
      ]
    },
    {
      "cell_type": "code",
      "metadata": {
        "colab": {
          "base_uri": "https://localhost:8080/"
        },
        "id": "vHGJRDAvapZi",
        "outputId": "13311b5b-9f9c-40a4-fb64-d39ad6e849bf"
      },
      "source": [
        "cntrDict = dict(cntr.most_common())\n",
        "cntrDict"
      ],
      "execution_count": null,
      "outputs": [
        {
          "output_type": "execute_result",
          "data": {
            "text/plain": [
              "{'a': 3, 'canal': 1, 'man': 1, 'panama': 1, 'plan': 1}"
            ]
          },
          "metadata": {
            "tags": []
          },
          "execution_count": 93
        }
      ]
    },
    {
      "cell_type": "code",
      "metadata": {
        "colab": {
          "base_uri": "https://localhost:8080/"
        },
        "id": "Sr5xuxIacvb9",
        "outputId": "18105de6-a037-4cbe-f2a4-67361bd8bb73"
      },
      "source": [
        "cntrDict['plan']"
      ],
      "execution_count": null,
      "outputs": [
        {
          "output_type": "execute_result",
          "data": {
            "text/plain": [
              "1"
            ]
          },
          "metadata": {
            "tags": []
          },
          "execution_count": 94
        }
      ]
    },
    {
      "cell_type": "markdown",
      "metadata": {
        "id": "1_WeMaMGeciF"
      },
      "source": [
        "웹에 접근하기"
      ]
    },
    {
      "cell_type": "code",
      "metadata": {
        "colab": {
          "base_uri": "https://localhost:8080/"
        },
        "id": "hfohbmg6c33Z",
        "outputId": "032846ef-ce45-4d1c-e7a2-1457b1103b01"
      },
      "source": [
        "import urllib.request\n",
        "try:\n",
        "  with urllib.urlopen(\"www.networksciencelab.com\") as doc:\n",
        "    html = doc.read()\n",
        "    print(html)\n",
        "except:\n",
        "  print(\"Could not open\")"
      ],
      "execution_count": null,
      "outputs": [
        {
          "output_type": "stream",
          "text": [
            "Could not open\n"
          ],
          "name": "stdout"
        }
      ]
    },
    {
      "cell_type": "code",
      "metadata": {
        "colab": {
          "base_uri": "https://localhost:8080/"
        },
        "id": "XEZdnMoBfoQR",
        "outputId": "ec260971-4d5e-442e-d115-5bc9fad0977f"
      },
      "source": [
        "import urllib.parse\n",
        "URL = \"http://networksciencelab.com/index.html;param?foo=bar#content\" \n",
        "# url 파싱하여 6개의 아이템으로 구성된 튜플로 분리 스키마 네트워크 주소, 파일 시스템 경로, 파라미터, 쿼리, 플래그먼트\n",
        "urllib.parse.urlparse(URL)"
      ],
      "execution_count": null,
      "outputs": [
        {
          "output_type": "execute_result",
          "data": {
            "text/plain": [
              "ParseResult(scheme='http', netloc='networksciencelab.com', path='/index.html', params='param', query='foo=bar', fragment='content')"
            ]
          },
          "metadata": {
            "tags": []
          },
          "execution_count": 98
        }
      ]
    },
    {
      "cell_type": "markdown",
      "metadata": {
        "id": "UiO1aVuboUja"
      },
      "source": [
        "정규식"
      ]
    },
    {
      "cell_type": "code",
      "metadata": {
        "colab": {
          "base_uri": "https://localhost:8080/"
        },
        "id": "KUQCHTmnhIX7",
        "outputId": "23ed9bad-6ff3-46de-bb57-885a779cd22f"
      },
      "source": [
        "a='abcdef\\t'\n",
        "print(a)\n",
        "b=r'abcdef\\t' #row데이터 , 원천 문자열로 인식\n",
        "print(b)\n"
      ],
      "execution_count": null,
      "outputs": [
        {
          "output_type": "stream",
          "text": [
            "abcdef\t\n",
            "abcdef\\t\n"
          ],
          "name": "stdout"
        }
      ]
    },
    {
      "cell_type": "code",
      "metadata": {
        "colab": {
          "base_uri": "https://localhost:8080/"
        },
        "id": "PxxXHg_Lo09b",
        "outputId": "2edf3beb-a971-40e2-dd3c-366251f72707"
      },
      "source": [
        "import re\n",
        "re.compile(r'(\\d+)(\\d+)(\\d+)') \n",
        "#r을 안붙히려면\n",
        "#re.compile('(\\\\d+)(\\\\d+)(\\\\d+)')\n"
      ],
      "execution_count": null,
      "outputs": [
        {
          "output_type": "execute_result",
          "data": {
            "text/plain": [
              "re.compile(r'(\\d+)(\\d+)(\\d+)', re.UNICODE)"
            ]
          },
          "metadata": {
            "tags": []
          },
          "execution_count": 100
        }
      ]
    },
    {
      "cell_type": "markdown",
      "metadata": {
        "id": "PQZ5X0kWqemg"
      },
      "source": [
        "정규표현시긍로 패턴 매칭하기\n",
        "\n",
        "re.split()함수 단어 분석을 위한 기본적인 단어 토크나이저로 사용할 수 있음"
      ]
    },
    {
      "cell_type": "code",
      "metadata": {
        "colab": {
          "base_uri": "https://localhost:8080/"
        },
        "id": "jzIL5CaGo9Gl",
        "outputId": "a22e31ff-19e2-427f-cfdc-d3a66cabff45"
      },
      "source": [
        "import re\n",
        "re.split(r'\\W','Hello,  world!') #r\"\\W\" -> 숫자, 알파벳 제외한 개체 1개"
      ],
      "execution_count": null,
      "outputs": [
        {
          "output_type": "execute_result",
          "data": {
            "text/plain": [
              "['Hello', '', '', 'world', '']"
            ]
          },
          "metadata": {
            "tags": []
          },
          "execution_count": 103
        }
      ]
    },
    {
      "cell_type": "code",
      "metadata": {
        "colab": {
          "base_uri": "https://localhost:8080/"
        },
        "id": "PTlilosTrjr2",
        "outputId": "20aead1f-5bfe-4b4d-f3dc-fd2a3b7335f8"
      },
      "source": [
        "#인근에 위치한 비문자(non-letter) = , 를 합친다.\n",
        "re.split(r\"\\W+\",\"Hello, world!\") #r\"\\W+\" -> 숫자, 알파벳 제외한 개체 1개 이상 합친다 (+)"
      ],
      "execution_count": null,
      "outputs": [
        {
          "output_type": "execute_result",
          "data": {
            "text/plain": [
              "['Hello', ',', ' ', 'world!']"
            ]
          },
          "metadata": {
            "tags": []
          },
          "execution_count": 119
        }
      ]
    },
    {
      "cell_type": "code",
      "metadata": {
        "colab": {
          "base_uri": "https://localhost:8080/"
        },
        "id": "mCxEAkTusD1P",
        "outputId": "ade39370-8218-4424-a919-795f20bf4fab"
      },
      "source": [
        "mo = re.match(r\"\\d+\",\"067 Starts with a number\")\n",
        "mo #\\d:숫자 + 숫자가 이어져 있는 끝까지 출력"
      ],
      "execution_count": null,
      "outputs": [
        {
          "output_type": "execute_result",
          "data": {
            "text/plain": [
              "<re.Match object; span=(0, 3), match='067'>"
            ]
          },
          "metadata": {
            "tags": []
          },
          "execution_count": 118
        }
      ]
    },
    {
      "cell_type": "code",
      "metadata": {
        "colab": {
          "base_uri": "https://localhost:8080/",
          "height": 35
        },
        "id": "pZnDFi3ItYsR",
        "outputId": "87d677d1-2484-468c-a30b-7d93637a0829"
      },
      "source": [
        "mo.group()"
      ],
      "execution_count": null,
      "outputs": [
        {
          "output_type": "execute_result",
          "data": {
            "application/vnd.google.colaboratory.intrinsic+json": {
              "type": "string"
            },
            "text/plain": [
              "'067'"
            ]
          },
          "metadata": {
            "tags": []
          },
          "execution_count": 120
        }
      ]
    },
    {
      "cell_type": "code",
      "metadata": {
        "colab": {
          "base_uri": "https://localhost:8080/"
        },
        "id": "Zh0Aq0EPt-AH",
        "outputId": "89541aae-917f-4767-a648-7b6dc2520fcf"
      },
      "source": [
        "print(re.match(r\"\\d+\", \"Does not 010 Starts with a number\"))\n",
        "#match는 첫문장이 \\d:숫자 로 시작하지 않으면 찾지 못함.\n",
        "#첫번째부터 match시키기 때문"
      ],
      "execution_count": null,
      "outputs": [
        {
          "output_type": "stream",
          "text": [
            "None\n"
          ],
          "name": "stdout"
        }
      ]
    },
    {
      "cell_type": "code",
      "metadata": {
        "colab": {
          "base_uri": "https://localhost:8080/"
        },
        "id": "J3p3QSiHuEJo",
        "outputId": "7aa6a76a-da19-451b-efac-bf243d9aa7e5"
      },
      "source": [
        "# [a-z] : 소문자들만 일치\n",
        "# re.I : 대소문자 구분하지 않음.\n",
        "print(re.search(r\"[a-z]+\",\"0010010 Has at least one 010 letter 0010010\",re.I).group())"
      ],
      "execution_count": null,
      "outputs": [
        {
          "output_type": "stream",
          "text": [
            "Has\n"
          ],
          "name": "stdout"
        }
      ]
    },
    {
      "cell_type": "code",
      "metadata": {
        "colab": {
          "base_uri": "https://localhost:8080/"
        },
        "id": "WD0NK-D9unyv",
        "outputId": "a7d6c6e9-3774-4042-be2f-66af5a5d5d32"
      },
      "source": [
        "# [A-Z] : 대문자들만 일치\n",
        "print(re.search(r\"[A-Z]+\",\"0010010 has at least ONE 010 letter 0010010\").group())"
      ],
      "execution_count": null,
      "outputs": [
        {
          "output_type": "stream",
          "text": [
            "ONE\n"
          ],
          "name": "stdout"
        }
      ]
    },
    {
      "cell_type": "code",
      "metadata": {
        "colab": {
          "base_uri": "https://localhost:8080/"
        },
        "id": "oMJZwxYTwFUg",
        "outputId": "a4075afe-cbb1-438b-d7a6-ee0f9cb1759b"
      },
      "source": [
        "# findall : 정규식에 부합하는 '모든' 문자열 찾기 \n",
        "print(re.findall(r\"[a-z]+\",\"0010010 Has at least one 010 letter 0010010\"))"
      ],
      "execution_count": null,
      "outputs": [
        {
          "output_type": "stream",
          "text": [
            "['as', 'at', 'least', 'one', 'letter']\n"
          ],
          "name": "stdout"
        }
      ]
    },
    {
      "cell_type": "code",
      "metadata": {
        "colab": {
          "base_uri": "https://localhost:8080/"
        },
        "id": "FqGQVV7hxKD-",
        "outputId": "4347e9ff-46d3-4852-ac57-5fa2fd767c31"
      },
      "source": [
        "#숫자만 추출\n",
        "print(re.findall(r\"\\d+\",\"0010010 Has at least one 010 letter 0010010\"))\n",
        "# \\D: 숫자가 아닌 개체 1개\n",
        "print(re.findall(r\"\\D+\",\"0010010 Has at least one 010 letter 0010010\"))"
      ],
      "execution_count": null,
      "outputs": [
        {
          "output_type": "stream",
          "text": [
            "['0010010', '010', '0010010']\n",
            "[' Has at least one ', ' letter ']\n"
          ],
          "name": "stdout"
        }
      ]
    },
    {
      "cell_type": "code",
      "metadata": {
        "colab": {
          "base_uri": "https://localhost:8080/"
        },
        "id": "V6-2l40Vwymb",
        "outputId": "3f23c86e-3a7e-411b-a1a2-e03ed35b192d"
      },
      "source": [
        "print(re.findall(r\"[a-z]+\",\"Hello, world!\",re.I))"
      ],
      "execution_count": null,
      "outputs": [
        {
          "output_type": "stream",
          "text": [
            "['Hello', 'world']\n"
          ],
          "name": "stdout"
        }
      ]
    },
    {
      "cell_type": "code",
      "metadata": {
        "colab": {
          "base_uri": "https://localhost:8080/",
          "height": 35
        },
        "id": "h1vXrNraxRwO",
        "outputId": "70f0b287-f88b-426c-856b-00ee8dc9738f"
      },
      "source": [
        "# sub : string으로 매칭되는 부분 문자열을 replace로 치환\n",
        "# 형식 : (pattern,replace, string, count=0, flags=0)\n",
        "re.sub(r\"[a-z]+\",'[...]','0010010 Has at least one 010 letter 0010010',0,re.I)\n",
        "#re.sub(r\"[a-z]+\",'[...]','0010010 Has at least one 010 letter 0010010',flags=re.I)\n",
        "\n",
        "# 대소문자 -> [...]로 치환"
      ],
      "execution_count": null,
      "outputs": [
        {
          "output_type": "execute_result",
          "data": {
            "application/vnd.google.colaboratory.intrinsic+json": {
              "type": "string"
            },
            "text/plain": [
              "'0010010 [...] [...] [...] [...] 010 [...] 0010010'"
            ]
          },
          "metadata": {
            "tags": []
          },
          "execution_count": 143
        }
      ]
    },
    {
      "cell_type": "code",
      "metadata": {
        "colab": {
          "base_uri": "https://localhost:8080/",
          "height": 35
        },
        "id": "5kl3wnOiyYzE",
        "outputId": "a5e57a0a-3edc-48bb-85c6-653d6058c529"
      },
      "source": [
        "#\"010-abcd-0100\" -> 010-****-0100\n",
        "re.sub(r\"[a-z]+\",'****',\"010-abcd-0100\")"
      ],
      "execution_count": null,
      "outputs": [
        {
          "output_type": "execute_result",
          "data": {
            "application/vnd.google.colaboratory.intrinsic+json": {
              "type": "string"
            },
            "text/plain": [
              "'010-****-0100'"
            ]
          },
          "metadata": {
            "tags": []
          },
          "execution_count": 145
        }
      ]
    },
    {
      "cell_type": "code",
      "metadata": {
        "colab": {
          "base_uri": "https://localhost:8080/",
          "height": 35
        },
        "id": "1fOmHP6M5H3l",
        "outputId": "5efad20d-4195-4530-d18c-e8b0ea6403bd"
      },
      "source": [
        "#\"010-abcd-0100\" -> ****-abcd-****\n",
        "re.sub(r\"\\d+\",\"****\",\"010-abcd-0100\")\n",
        "#re.sub(r\"[0-9]+\",\"****\",\"010-abcd-0100\")\n",
        "#같은 결과"
      ],
      "execution_count": null,
      "outputs": [
        {
          "output_type": "execute_result",
          "data": {
            "application/vnd.google.colaboratory.intrinsic+json": {
              "type": "string"
            },
            "text/plain": [
              "'****-abcd-****'"
            ]
          },
          "metadata": {
            "tags": []
          },
          "execution_count": 149
        }
      ]
    },
    {
      "cell_type": "code",
      "metadata": {
        "id": "9-8vCr-V5lZj"
      },
      "source": [
        ""
      ],
      "execution_count": null,
      "outputs": []
    }
  ]
}